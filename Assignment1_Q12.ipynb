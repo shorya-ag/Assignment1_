{
  "nbformat": 4,
  "nbformat_minor": 0,
  "metadata": {
    "colab": {
      "provenance": [],
      "authorship_tag": "ABX9TyOcMHSB50fWd2Fw66SWvQYE",
      "include_colab_link": true
    },
    "kernelspec": {
      "name": "python3",
      "display_name": "Python 3"
    },
    "language_info": {
      "name": "python"
    }
  },
  "cells": [
    {
      "cell_type": "markdown",
      "metadata": {
        "id": "view-in-github",
        "colab_type": "text"
      },
      "source": [
        "<a href=\"https://colab.research.google.com/github/shorya-ag/Assignment1_/blob/main/Assignment1_Q12.ipynb\" target=\"_parent\"><img src=\"https://colab.research.google.com/assets/colab-badge.svg\" alt=\"Open In Colab\"/></a>"
      ]
    },
    {
      "cell_type": "markdown",
      "source": [
        "**Q12.Sort following number of elements in a list, calculate time taken and plot the graph.**"
      ],
      "metadata": {
        "id": "eQ05Kq0cKLEG"
      }
    },
    {
      "cell_type": "markdown",
      "source": [
        "5K Elements"
      ],
      "metadata": {
        "id": "U49YppDYKg_U"
      }
    },
    {
      "cell_type": "code",
      "source": [
        "import random as r\n",
        "import time as t\n",
        "T1 = []\n",
        "for i in range(5000):\n",
        "  list1 = r.randint(0,1000000)\n",
        "  T1.append(int(list1))\n",
        "start = t.time()\n",
        "T1.sort()\n",
        "end = t.time()\n",
        "T1 = end - start\n",
        "print(T1)"
      ],
      "metadata": {
        "colab": {
          "base_uri": "https://localhost:8080/"
        },
        "id": "R9kwgOexKlyf",
        "outputId": "3d085322-d763-4719-ade6-c24f941be7c5"
      },
      "execution_count": 13,
      "outputs": [
        {
          "output_type": "stream",
          "name": "stdout",
          "text": [
            "0.0010919570922851562\n"
          ]
        }
      ]
    },
    {
      "cell_type": "markdown",
      "source": [
        "10k Elements"
      ],
      "metadata": {
        "id": "Rj7G1e1ZL5ct"
      }
    },
    {
      "cell_type": "code",
      "source": [
        "import random as r\n",
        "import time as t\n",
        "T2 = []\n",
        "for i in range(10000):\n",
        "  list1 = r.randint(0,1000000)\n",
        "  T2.append(int(list1))\n",
        "start = t.time()\n",
        "T2.sort()\n",
        "end = t.time()\n",
        "T2 = end - start\n",
        "print(T2)"
      ],
      "metadata": {
        "colab": {
          "base_uri": "https://localhost:8080/"
        },
        "id": "ZjT9GY2aL-XJ",
        "outputId": "4de912e7-65e0-4418-9cfa-e2e13feb58fb"
      },
      "execution_count": 14,
      "outputs": [
        {
          "output_type": "stream",
          "name": "stdout",
          "text": [
            "0.001710653305053711\n"
          ]
        }
      ]
    },
    {
      "cell_type": "markdown",
      "source": [
        "15K Elements"
      ],
      "metadata": {
        "id": "nqOm7BaTMQQt"
      }
    },
    {
      "cell_type": "code",
      "source": [
        "import random as r\n",
        "import time as t\n",
        "T3 = []\n",
        "for i in range(15000):\n",
        "  list1 = r.randint(0,1000000)\n",
        "  T3.append(int(list1))\n",
        "start = t.time()\n",
        "T3.sort()\n",
        "end = t.time()\n",
        "T3 = end - start\n",
        "print(T3)"
      ],
      "metadata": {
        "colab": {
          "base_uri": "https://localhost:8080/"
        },
        "id": "zPXZ0MiCMUdP",
        "outputId": "0931558b-c69d-40fc-c1f6-278ee579409a"
      },
      "execution_count": 15,
      "outputs": [
        {
          "output_type": "stream",
          "name": "stdout",
          "text": [
            "0.0026121139526367188\n"
          ]
        }
      ]
    },
    {
      "cell_type": "markdown",
      "source": [
        "20K Elements"
      ],
      "metadata": {
        "id": "IFD0Ovn1MX4w"
      }
    },
    {
      "cell_type": "code",
      "source": [
        "import random as r\n",
        "import time as t\n",
        "T4 = []\n",
        "for i in range(20000):\n",
        "  list1 = r.randint(0,1000000)\n",
        "  T4.append(int(list1))\n",
        "start = t.time()\n",
        "T4.sort()\n",
        "end = t.time()\n",
        "T4 = end - start\n",
        "print(T4)"
      ],
      "metadata": {
        "colab": {
          "base_uri": "https://localhost:8080/"
        },
        "id": "UaK_JNz1MfUW",
        "outputId": "381f3d5f-06e7-4ffe-9001-69d078d31ba8"
      },
      "execution_count": 16,
      "outputs": [
        {
          "output_type": "stream",
          "name": "stdout",
          "text": [
            "0.0036649703979492188\n"
          ]
        }
      ]
    },
    {
      "cell_type": "markdown",
      "source": [
        "25K Elements"
      ],
      "metadata": {
        "id": "zcJ69_CRMpZt"
      }
    },
    {
      "cell_type": "code",
      "source": [
        "import random as r\n",
        "import time as t\n",
        "T5 = []\n",
        "for i in range(25000):\n",
        "  list1 = r.randint(0,1000000)\n",
        "  T5.append(int(list1))\n",
        "start = t.time()\n",
        "T5.sort()\n",
        "end = t.time()\n",
        "T5 = end - start\n",
        "print(T5)"
      ],
      "metadata": {
        "colab": {
          "base_uri": "https://localhost:8080/"
        },
        "id": "oAWz2SANMtg-",
        "outputId": "d9faec00-bc93-4601-f1ba-90904f274ffa"
      },
      "execution_count": 17,
      "outputs": [
        {
          "output_type": "stream",
          "name": "stdout",
          "text": [
            "0.006162405014038086\n"
          ]
        }
      ]
    },
    {
      "cell_type": "code",
      "source": [
        "import matplotlib.pyplot as plt\n",
        "X = [5000,10000,15000,20000,25000]\n",
        "Y = [T1,T2,T3,T4,T5]\n",
        "plt.plot(X,Y)\n",
        "plt.xlabel(\"No. of elements\")\n",
        "plt.ylabel(\"Time Required\")\n",
        "plt.title(\"Time taken by no. of elements\")\n"
      ],
      "metadata": {
        "colab": {
          "base_uri": "https://localhost:8080/",
          "height": 489
        },
        "id": "0zVeYSqvMy1v",
        "outputId": "0d83ebd5-737a-4338-8246-798b28fae150"
      },
      "execution_count": 23,
      "outputs": [
        {
          "output_type": "execute_result",
          "data": {
            "text/plain": [
              "Text(0.5, 1.0, 'Time taken by no. of elements')"
            ]
          },
          "metadata": {},
          "execution_count": 23
        },
        {
          "output_type": "display_data",
          "data": {
            "text/plain": [
              "<Figure size 640x480 with 1 Axes>"
            ],
            "image/png": "[encoded data removed]"
          },
          "metadata": {}
        }
      ]
    }
  ]
}