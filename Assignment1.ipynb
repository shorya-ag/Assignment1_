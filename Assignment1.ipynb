{
  "nbformat": 4,
  "nbformat_minor": 0,
  "metadata": {
    "colab": {
      "provenance": [],
      "authorship_tag": "ABX9TyPfyM0lknxQSHJUDBwP9kXi",
      "include_colab_link": true
    },
    "kernelspec": {
      "name": "python3",
      "display_name": "Python 3"
    },
    "language_info": {
      "name": "python"
    }
  },
  "cells": [
    {
      "cell_type": "markdown",
      "metadata": {
        "id": "view-in-github",
        "colab_type": "text"
      },
      "source": [
        "<a href=\"https://colab.research.google.com/github/shorya-ag/Assignment1_/blob/main/Assignment1.ipynb\" target=\"_parent\"><img src=\"https://colab.research.google.com/assets/colab-badge.svg\" alt=\"Open In Colab\"/></a>"
      ]
    },
    {
      "cell_type": "code",
      "execution_count": null,
      "metadata": {
        "id": "mNQPgGwfzSzY"
      },
      "outputs": [],
      "source": []
    },
    {
      "cell_type": "markdown",
      "source": [
        "Q1. LIST"
      ],
      "metadata": {
        "id": "D-PtGgA4zgVF"
      }
    },
    {
      "cell_type": "markdown",
      "source": [],
      "metadata": {
        "id": "lBVvGgvH0D8m"
      }
    },
    {
      "cell_type": "code",
      "source": [
        "L = [11,12,13,14]\n",
        "L.append(50)\n",
        "L.append(60)\n",
        "print(\"New list is --> \",L)"
      ],
      "metadata": {
        "colab": {
          "base_uri": "https://localhost:8080/"
        },
        "id": "KAB9YoO3zxXj",
        "outputId": "33d1ab6e-96e0-4a72-de89-487fb2561f7c"
      },
      "execution_count": 4,
      "outputs": [
        {
          "output_type": "stream",
          "name": "stdout",
          "text": [
            "New list is -->  [11, 12, 13, 14, 50, 60]\n"
          ]
        }
      ]
    },
    {
      "cell_type": "markdown",
      "source": [],
      "metadata": {
        "id": "q0GzKnGv0cGO"
      }
    },
    {
      "cell_type": "code",
      "source": [
        "L = [11,12,13,14]\n",
        "for i in L:\n",
        "   if (i==11):\n",
        "    L.remove(i)\n",
        "   if (i==13):\n",
        "    L.remove(i)\n",
        "print(\"New list is --> \",L)    \n",
        "\n"
      ],
      "metadata": {
        "colab": {
          "base_uri": "https://localhost:8080/"
        },
        "id": "EdjVNVX80clK",
        "outputId": "af2af86e-8225-4eaa-c7d0-33ee56c11bff"
      },
      "execution_count": 21,
      "outputs": [
        {
          "output_type": "stream",
          "name": "stdout",
          "text": [
            "New list is -->  [12, 14]\n"
          ]
        }
      ]
    },
    {
      "cell_type": "markdown",
      "source": [],
      "metadata": {
        "id": "h72XK6p15Ddb"
      }
    },
    {
      "cell_type": "code",
      "source": [
        "L = [11,12,13,14]\n",
        "L.sort()\n",
        "print(\"List in ascending order L = \",L)"
      ],
      "metadata": {
        "colab": {
          "base_uri": "https://localhost:8080/"
        },
        "id": "2fWENXTb5EZw",
        "outputId": "56aebdad-8de1-432f-faaa-298c3908ae08"
      },
      "execution_count": 26,
      "outputs": [
        {
          "output_type": "stream",
          "name": "stdout",
          "text": [
            "List in ascending order L =  [11, 12, 13, 14]\n"
          ]
        }
      ]
    },
    {
      "cell_type": "markdown",
      "source": [],
      "metadata": {
        "id": "uY5AKQ_Q5yse"
      }
    },
    {
      "cell_type": "code",
      "source": [
        "L = [11,12,13,14]\n",
        "L.sort(reverse = True)\n",
        "print(\"List in descending order L = \",L)"
      ],
      "metadata": {
        "colab": {
          "base_uri": "https://localhost:8080/"
        },
        "id": "8P8bYwmT5y0w",
        "outputId": "930a7867-3da2-4dff-e95d-ad4c0194bc16"
      },
      "execution_count": 27,
      "outputs": [
        {
          "output_type": "stream",
          "name": "stdout",
          "text": [
            "List in descending order L =  [14, 13, 12, 11]\n"
          ]
        }
      ]
    },
    {
      "cell_type": "markdown",
      "source": [],
      "metadata": {
        "id": "3wAzCoO358kJ"
      }
    },
    {
      "cell_type": "code",
      "source": [
        "L = [11,12,13,14]\n",
        "if (13 in L) == True:\n",
        "  print(\"present\")\n",
        "else:\n",
        "  print(\"not present\")  "
      ],
      "metadata": {
        "colab": {
          "base_uri": "https://localhost:8080/"
        },
        "id": "CzDQFsuT583o",
        "outputId": "130d708b-aaae-4aed-e726-9f4aa05fccfc"
      },
      "execution_count": 29,
      "outputs": [
        {
          "output_type": "stream",
          "name": "stdout",
          "text": [
            "present\n"
          ]
        }
      ]
    },
    {
      "cell_type": "markdown",
      "source": [],
      "metadata": {
        "id": "05QN7Nyl6TRw"
      }
    },
    {
      "cell_type": "code",
      "source": [
        "L = [11,12,13,14]\n",
        "print(\"total number of elements are\",len(L))"
      ],
      "metadata": {
        "colab": {
          "base_uri": "https://localhost:8080/"
        },
        "id": "T5jCLjFQ6TbN",
        "outputId": "9e4e1062-2268-4cc1-9444-dc00c7f6d44c"
      },
      "execution_count": 32,
      "outputs": [
        {
          "output_type": "stream",
          "name": "stdout",
          "text": [
            "total number of elements are 4\n"
          ]
        }
      ]
    },
    {
      "cell_type": "markdown",
      "source": [],
      "metadata": {
        "id": "9njHCoaY6zvt"
      }
    },
    {
      "cell_type": "code",
      "source": [
        "print(\"sum of all elements are\",sum(L))"
      ],
      "metadata": {
        "colab": {
          "base_uri": "https://localhost:8080/"
        },
        "id": "dAeNvppB6z24",
        "outputId": "20e98c5d-72e0-44ef-b1b0-6aefad77f269"
      },
      "execution_count": 33,
      "outputs": [
        {
          "output_type": "stream",
          "name": "stdout",
          "text": [
            "sum of all elements are 50\n"
          ]
        }
      ]
    },
    {
      "cell_type": "markdown",
      "source": [],
      "metadata": {
        "id": "kqHXItN97IVs"
      }
    },
    {
      "cell_type": "code",
      "source": [
        "L = [11,12,13,14]\n",
        "sum1 = 0\n",
        "sum2 = 0\n",
        "for i in L:\n",
        "  if(i%2 == 0):\n",
        "    sum1 = sum1 + i\n",
        "  else:\n",
        "    sum2 = sum2 + i\n",
        "print(\"sum of even numbers are:\",sum1)\n",
        "print(\"sum of odd numbers are:\",sum2)    "
      ],
      "metadata": {
        "colab": {
          "base_uri": "https://localhost:8080/"
        },
        "id": "WaWKZg0g7Ieh",
        "outputId": "b67ab125-aae4-44d8-8c07-8293d65517da"
      },
      "execution_count": 58,
      "outputs": [
        {
          "output_type": "stream",
          "name": "stdout",
          "text": [
            "sum of even numbers are: 26\n",
            "sum of odd numbers are: 24\n"
          ]
        }
      ]
    },
    {
      "cell_type": "markdown",
      "source": [],
      "metadata": {
        "id": "9ctPC0Gf8HAO"
      }
    },
    {
      "cell_type": "code",
      "source": [
        "L = [11,12,13,14]\n",
        "n = len(L)\n",
        "f = 0\n",
        "for j in L:\n",
        "  print(j)\n",
        "for i in range(2,j//2 + 1):\n",
        "  if(j%i == 0):\n",
        "    f = 1\n",
        "    break\n",
        "if(f==0):\n",
        "    print(L)  \n"
      ],
      "metadata": {
        "colab": {
          "base_uri": "https://localhost:8080/"
        },
        "id": "9kYI2hfA-9Ns",
        "outputId": "c356224a-1fb2-44ff-9f52-9b5d47bc1b33"
      },
      "execution_count": 75,
      "outputs": [
        {
          "output_type": "stream",
          "name": "stdout",
          "text": [
            "11\n",
            "12\n",
            "13\n",
            "14\n"
          ]
        }
      ]
    },
    {
      "cell_type": "markdown",
      "source": [],
      "metadata": {
        "id": "K-uReUEv8c20"
      }
    },
    {
      "cell_type": "code",
      "source": [
        "L.clear()\n",
        "print(\"clear list is\",L)"
      ],
      "metadata": {
        "colab": {
          "base_uri": "https://localhost:8080/"
        },
        "id": "Ut2WdMzx8doP",
        "outputId": "98cf3194-bb4c-4fa9-d1f3-3237247aca20"
      },
      "execution_count": 36,
      "outputs": [
        {
          "output_type": "stream",
          "name": "stdout",
          "text": [
            "clear list is []\n"
          ]
        }
      ]
    },
    {
      "cell_type": "markdown",
      "source": [],
      "metadata": {
        "id": "KfTHrqIQ8oww"
      }
    },
    {
      "cell_type": "code",
      "source": [
        "L = [11,12,13,14]\n",
        "while i<=len(L):\n",
        "  del L[0]\n",
        "print(\"deleted list is\",L)\n"
      ],
      "metadata": {
        "colab": {
          "base_uri": "https://localhost:8080/"
        },
        "id": "wNSBcJkT8o5P",
        "outputId": "77bb29cd-bbf5-4ccf-c26c-134cb800d562"
      },
      "execution_count": 54,
      "outputs": [
        {
          "output_type": "stream",
          "name": "stdout",
          "text": [
            "deleted list is []\n"
          ]
        }
      ]
    },
    {
      "cell_type": "markdown",
      "source": [
        "Q2. Dictionary"
      ],
      "metadata": {
        "id": "wxvnHBjcGHr5"
      }
    },
    {
      "cell_type": "markdown",
      "source": [],
      "metadata": {
        "id": "rEs9lVAbGMRE"
      }
    },
    {
      "cell_type": "code",
      "source": [
        "D= {1:5.6, 2:7.8, 3:6.6, 4:8.7, 5:7.7}\n",
        "D[8] = 8.8;\n",
        "print(D)"
      ],
      "metadata": {
        "colab": {
          "base_uri": "https://localhost:8080/"
        },
        "id": "tpFnJ8jAGMei",
        "outputId": "43ff9b41-e64f-43d0-f471-5e6a27bd159e"
      },
      "execution_count": 76,
      "outputs": [
        {
          "output_type": "stream",
          "name": "stdout",
          "text": [
            "{1: 5.6, 2: 7.8, 3: 6.6, 4: 8.7, 5: 7.7, 8: 8.8}\n"
          ]
        }
      ]
    },
    {
      "cell_type": "markdown",
      "source": [],
      "metadata": {
        "id": "25oaK4FkGuWs"
      }
    },
    {
      "cell_type": "code",
      "source": [
        "D= {1:5.6, 2:7.8, 3:6.6, 4:8.7, 5:7.7}\n",
        "del D[2]\n",
        "print(D)"
      ],
      "metadata": {
        "colab": {
          "base_uri": "https://localhost:8080/"
        },
        "id": "LMAUgP1lGueg",
        "outputId": "cc7fe4c3-1854-4119-b49a-43bf4cb84652"
      },
      "execution_count": 77,
      "outputs": [
        {
          "output_type": "stream",
          "name": "stdout",
          "text": [
            "{1: 5.6, 3: 6.6, 4: 8.7, 5: 7.7}\n"
          ]
        }
      ]
    },
    {
      "cell_type": "markdown",
      "source": [],
      "metadata": {
        "id": "TdWso7TeG9g8"
      }
    },
    {
      "cell_type": "code",
      "source": [
        "D= {1:5.6, 2:7.8, 3:6.6, 4:8.7, 5:7.7}\n",
        "print(6 in D)\n"
      ],
      "metadata": {
        "colab": {
          "base_uri": "https://localhost:8080/"
        },
        "id": "f_LOi6wzG9o4",
        "outputId": "75a55d99-4e93-4735-9388-1ef365f559cf"
      },
      "execution_count": 78,
      "outputs": [
        {
          "output_type": "stream",
          "name": "stdout",
          "text": [
            "False\n"
          ]
        }
      ]
    },
    {
      "cell_type": "markdown",
      "source": [],
      "metadata": {
        "id": "f_FV901SHIu1"
      }
    },
    {
      "cell_type": "code",
      "source": [
        "D= {1:5.6, 2:7.8, 3:6.6, 4:8.7, 5:7.7}\n",
        "print(len(D))"
      ],
      "metadata": {
        "colab": {
          "base_uri": "https://localhost:8080/"
        },
        "id": "8tMaoMi-HI3Q",
        "outputId": "548e5b21-3a1b-4254-c9d7-62af5dd0cab1"
      },
      "execution_count": 80,
      "outputs": [
        {
          "output_type": "stream",
          "name": "stdout",
          "text": [
            "5\n"
          ]
        }
      ]
    },
    {
      "cell_type": "markdown",
      "source": [],
      "metadata": {
        "id": "OGDVHwjoHSR6"
      }
    },
    {
      "cell_type": "code",
      "source": [
        "D= {1:5.6, 2:7.8, 3:6.6, 4:8.7, 5:7.7}\n",
        "sum = 0\n",
        "for i in D.values():\n",
        "  sum  = sum + i\n",
        "print(sum) "
      ],
      "metadata": {
        "colab": {
          "base_uri": "https://localhost:8080/"
        },
        "id": "OIR-zavPHSas",
        "outputId": "5256fdad-e3fe-44c8-c60e-52aa215b84cf"
      },
      "execution_count": 83,
      "outputs": [
        {
          "output_type": "stream",
          "name": "stdout",
          "text": [
            "36.4\n"
          ]
        }
      ]
    },
    {
      "cell_type": "markdown",
      "source": [],
      "metadata": {
        "id": "T6SeA0qGHlh0"
      }
    },
    {
      "cell_type": "code",
      "source": [
        "D= {1:5.6, 2:7.8, 3:6.6, 4:8.7, 5:7.7}\n",
        "D[3] = 7.1\n",
        "print(D)"
      ],
      "metadata": {
        "colab": {
          "base_uri": "https://localhost:8080/"
        },
        "id": "FVwRSqKVHlqI",
        "outputId": "66ee4190-f356-47ff-ecfc-09d837feac48"
      },
      "execution_count": 84,
      "outputs": [
        {
          "output_type": "stream",
          "name": "stdout",
          "text": [
            "{1: 5.6, 2: 7.8, 3: 7.1, 4: 8.7, 5: 7.7}\n"
          ]
        }
      ]
    },
    {
      "cell_type": "markdown",
      "source": [],
      "metadata": {
        "id": "_WxaB5ZiHsrV"
      }
    },
    {
      "cell_type": "code",
      "source": [
        "D= {1:5.6, 2:7.8, 3:6.6, 4:8.7, 5:7.7}\n",
        "D.clear()\n",
        "print(D)"
      ],
      "metadata": {
        "colab": {
          "base_uri": "https://localhost:8080/"
        },
        "id": "lVBohAGTHs70",
        "outputId": "d2e104fa-6326-4c57-a515-9ed90b5c0ae2"
      },
      "execution_count": 86,
      "outputs": [
        {
          "output_type": "stream",
          "name": "stdout",
          "text": [
            "{}\n"
          ]
        }
      ]
    },
    {
      "cell_type": "markdown",
      "source": [
        "Q3. Sets"
      ],
      "metadata": {
        "id": "1RloEnQgHzx1"
      }
    },
    {
      "cell_type": "markdown",
      "source": [],
      "metadata": {
        "id": "e-DcG_WWJFLm"
      }
    },
    {
      "cell_type": "code",
      "source": [
        "s1= set([10, 20, 30, 40, 50, 60])\n",
        "s2= set([40, 50, 60, 70, 80, 90])\n",
        "s1.add(55)\n",
        "s1.add(66)\n",
        "print(s1)"
      ],
      "metadata": {
        "colab": {
          "base_uri": "https://localhost:8080/"
        },
        "id": "jbndvEPsH7m-",
        "outputId": "1153fa40-3f53-41ed-82a6-b9daf14cb725"
      },
      "execution_count": 88,
      "outputs": [
        {
          "output_type": "stream",
          "name": "stdout",
          "text": [
            "{66, 40, 10, 50, 20, 55, 60, 30}\n"
          ]
        }
      ]
    },
    {
      "cell_type": "markdown",
      "source": [],
      "metadata": {
        "id": "Y2-lseXYJEOg"
      }
    },
    {
      "cell_type": "code",
      "source": [
        "s1= set([10, 20, 30, 40, 50, 60])\n",
        "s2= set([40, 50, 60, 70, 80, 90])\n",
        "s1.remove(10)\n",
        "s1.remove(20)\n",
        "print(s1)"
      ],
      "metadata": {
        "colab": {
          "base_uri": "https://localhost:8080/"
        },
        "id": "DW7OjUGFJF7N",
        "outputId": "3687b94a-8dd7-4137-e5ec-b51ec096bdea"
      },
      "execution_count": 89,
      "outputs": [
        {
          "output_type": "stream",
          "name": "stdout",
          "text": [
            "{40, 50, 60, 30}\n"
          ]
        }
      ]
    },
    {
      "cell_type": "markdown",
      "source": [],
      "metadata": {
        "id": "_5t6DD9SJUjy"
      }
    },
    {
      "cell_type": "code",
      "source": [
        "s1= set([10, 20, 30, 40, 50, 60])\n",
        "s2= set([40, 50, 60, 70, 80, 90])\n",
        "print(40 in s1)"
      ],
      "metadata": {
        "colab": {
          "base_uri": "https://localhost:8080/"
        },
        "id": "FVsWO2YPJUrm",
        "outputId": "d9ba6cab-91c1-4427-ae88-c8c24423fa7b"
      },
      "execution_count": 90,
      "outputs": [
        {
          "output_type": "stream",
          "name": "stdout",
          "text": [
            "True\n"
          ]
        }
      ]
    },
    {
      "cell_type": "markdown",
      "source": [],
      "metadata": {
        "id": "heHX-XLSJkHw"
      }
    },
    {
      "cell_type": "code",
      "source": [
        "s1= set([10, 20, 30, 40, 50, 60])\n",
        "s2= set([40, 50, 60, 70, 80, 90])\n",
        "print(\"union of 2 sets is : \",s1.union(s2))"
      ],
      "metadata": {
        "colab": {
          "base_uri": "https://localhost:8080/"
        },
        "id": "GdKDx98WJkUl",
        "outputId": "aa2ba112-7a09-411a-f46d-a72de9f2cf56"
      },
      "execution_count": 91,
      "outputs": [
        {
          "output_type": "stream",
          "name": "stdout",
          "text": [
            "union of 2 sets is :  {70, 40, 10, 80, 50, 20, 90, 60, 30}\n"
          ]
        }
      ]
    },
    {
      "cell_type": "markdown",
      "source": [],
      "metadata": {
        "id": "HEa-Gk97JxQz"
      }
    },
    {
      "cell_type": "code",
      "source": [
        "s1= set([10, 20, 30, 40, 50, 60])\n",
        "s2= set([40, 50, 60, 70, 80, 90])\n",
        "print(\"intersection of 2 sets is : \",s1.intersection(s2))"
      ],
      "metadata": {
        "colab": {
          "base_uri": "https://localhost:8080/"
        },
        "id": "DSsC2z6kJxYO",
        "outputId": "33279904-58f7-4ee9-d425-6bb697c47008"
      },
      "execution_count": 92,
      "outputs": [
        {
          "output_type": "stream",
          "name": "stdout",
          "text": [
            "intersection of 2 sets is :  {40, 50, 60}\n"
          ]
        }
      ]
    },
    {
      "cell_type": "markdown",
      "source": [],
      "metadata": {
        "id": "8V-Oj57mJ6mp"
      }
    },
    {
      "cell_type": "code",
      "source": [
        "s1= set([10, 20, 30, 40, 50, 60])\n",
        "s2= set([40, 50, 60, 70, 80, 90])\n",
        "print(\"s1 - s2 : \",s1.difference(s2))"
      ],
      "metadata": {
        "colab": {
          "base_uri": "https://localhost:8080/"
        },
        "id": "O1wHu-kWJ6vU",
        "outputId": "fef7cb9f-d0fa-4c41-c0af-cd3ad86b394c"
      },
      "execution_count": 98,
      "outputs": [
        {
          "output_type": "stream",
          "name": "stdout",
          "text": [
            "s1 - s2 :  {10, 20, 30}\n"
          ]
        }
      ]
    },
    {
      "cell_type": "markdown",
      "source": [
        "Q4. \n"
      ],
      "metadata": {
        "id": "g-8wGXhFL4yS"
      }
    },
    {
      "cell_type": "markdown",
      "source": [],
      "metadata": {
        "id": "Bd8xfbxqL8fy"
      }
    },
    {
      "cell_type": "code",
      "source": [
        "import string as s\n",
        "import random as r\n",
        "print(s.ascii_letters)\n",
        "for i in range(0,100):\n",
        "  random_string = r.sample(s.ascii_letters,7)\n",
        "  print(\"\".join(random_string))"
      ],
      "metadata": {
        "colab": {
          "base_uri": "https://localhost:8080/"
        },
        "id": "PmXGnPsbL8pZ",
        "outputId": "66d1c647-fa98-4b9b-8a09-47df6fbd0fb4"
      },
      "execution_count": 108,
      "outputs": [
        {
          "output_type": "stream",
          "name": "stdout",
          "text": [
            "abcdefghijklmnopqrstuvwxyzABCDEFGHIJKLMNOPQRSTUVWXYZ\n",
            "myRPsBv\n",
            "\t\n",
            "lNIHCMO\n",
            "\t\n",
            "HWlkqUO\n",
            "\t\n",
            "VjyBict\n",
            "\t\n",
            "QIiCGzY\n",
            "\t\n",
            "VGnHfCp\n",
            "\t\n",
            "HKkLySx\n",
            "\t\n",
            "WTGhRte\n",
            "\t\n",
            "nZcbrfI\n",
            "\t\n",
            "kpTUAxF\n",
            "\t\n",
            "mMDLYCA\n",
            "\t\n",
            "fKJxsNW\n",
            "\t\n",
            "czPGZru\n",
            "\t\n",
            "EuopKTY\n",
            "\t\n",
            "GxFHBRd\n",
            "\t\n",
            "mPZTrnw\n",
            "\t\n",
            "kiesEgq\n",
            "\t\n",
            "wibsdGN\n",
            "\t\n",
            "voXqOEw\n",
            "\t\n",
            "VIAEkiU\n",
            "\t\n",
            "gbiEDTR\n",
            "\t\n",
            "fAdXHgY\n",
            "\t\n",
            "lHnTmMu\n",
            "\t\n",
            "forXEZy\n",
            "\t\n",
            "NxPEjwt\n",
            "\t\n",
            "NKBIHwo\n",
            "\t\n",
            "aKLJIcq\n",
            "\t\n",
            "KPLTcFV\n",
            "\t\n",
            "oJROYuN\n",
            "\t\n",
            "wOTYPys\n",
            "\t\n",
            "OQyNtBp\n",
            "\t\n",
            "TQaYEgR\n",
            "\t\n",
            "dMpYfCo\n",
            "\t\n",
            "cgfkZdQ\n",
            "\t\n",
            "oZEDFhi\n",
            "\t\n",
            "DEkWgtc\n",
            "\t\n",
            "kERVplQ\n",
            "\t\n",
            "Ldraoik\n",
            "\t\n",
            "SICFmsz\n",
            "\t\n",
            "eJkWwtP\n",
            "\t\n",
            "vlrFxVb\n",
            "\t\n",
            "oXleNkS\n",
            "\t\n",
            "ScwAXfa\n",
            "\t\n",
            "DTPKLHW\n",
            "\t\n",
            "hkdYmlb\n",
            "\t\n",
            "YXQeEvJ\n",
            "\t\n",
            "qpiCOZI\n",
            "\t\n",
            "eSLAHth\n",
            "\t\n",
            "igtcDno\n",
            "\t\n",
            "hYaGJXe\n",
            "\t\n",
            "CLMdErl\n",
            "\t\n",
            "IvHTCrS\n",
            "\t\n",
            "Tyfjamv\n",
            "\t\n",
            "cenSfPt\n",
            "\t\n",
            "WAntsrk\n",
            "\t\n",
            "cCEUByG\n",
            "\t\n",
            "aDhnIrL\n",
            "\t\n",
            "dBfLArS\n",
            "\t\n",
            "ubcvSsI\n",
            "\t\n",
            "BrcbAyJ\n",
            "\t\n",
            "Jhyplus\n",
            "\t\n",
            "GrgyXuf\n",
            "\t\n",
            "lrmYfNx\n",
            "\t\n",
            "GihFpDS\n",
            "\t\n",
            "czOlhjP\n",
            "\t\n",
            "lOKpcHe\n",
            "\t\n",
            "ZStusBk\n",
            "\t\n",
            "ADHErNh\n",
            "\t\n",
            "xKqErkv\n",
            "\t\n",
            "DfUPckM\n",
            "\t\n",
            "gbEYxFT\n",
            "\t\n",
            "pPQqaOy\n",
            "\t\n",
            "HMydjaR\n",
            "\t\n",
            "RwtvqTL\n",
            "\t\n",
            "Rekyciw\n",
            "\t\n",
            "IYUoxCf\n",
            "\t\n",
            "KQDIqCB\n",
            "\t\n",
            "rDkZNCs\n",
            "\t\n",
            "MQqRcIO\n",
            "\t\n",
            "qTtVdgS\n",
            "\t\n",
            "uwlULHM\n",
            "\t\n",
            "SJuLfEX\n",
            "\t\n",
            "eqcoNnW\n",
            "\t\n",
            "XYkRJLZ\n",
            "\t\n",
            "cPeCuHW\n",
            "\t\n",
            "iWUIZsn\n",
            "\t\n",
            "odXJbBa\n",
            "\t\n",
            "NJYmiRA\n",
            "\t\n",
            "taHPTNZ\n",
            "\t\n",
            "yNCSQTB\n",
            "\t\n",
            "zdBEvVe\n",
            "\t\n",
            "Kuohctx\n",
            "\t\n",
            "WRKUtsv\n",
            "\t\n",
            "dYphfAz\n",
            "\t\n",
            "cqrPFJR\n",
            "\t\n",
            "WMjoHIy\n",
            "\t\n",
            "RvQlmra\n",
            "\t\n",
            "MYpzbrv\n",
            "\t\n",
            "bVwqIQr\n",
            "\t\n",
            "iWQPVRs\n",
            "\t\n"
          ]
        }
      ]
    },
    {
      "cell_type": "markdown",
      "source": [],
      "metadata": {
        "id": "Ypzf-ZoJOJEX"
      }
    },
    {
      "cell_type": "code",
      "source": [
        "def IsPrime(n):\n",
        "\tfor i in range(2, n//2 + 1):\n",
        "\t\tif n%i==0:\n",
        "\t\t\treturn 0\n",
        "\treturn 1\n",
        "for i in range(600,800):\n",
        " if IsPrime(i) == 1:\n",
        "\t print(i)"
      ],
      "metadata": {
        "colab": {
          "base_uri": "https://localhost:8080/"
        },
        "id": "xdmuQovpOJO7",
        "outputId": "a1d3527f-9f34-4153-a208-d35e6c34648a"
      },
      "execution_count": 110,
      "outputs": [
        {
          "output_type": "stream",
          "name": "stdout",
          "text": [
            "601\n",
            "607\n",
            "613\n",
            "617\n",
            "619\n",
            "631\n",
            "641\n",
            "643\n",
            "647\n",
            "653\n",
            "659\n",
            "661\n",
            "673\n",
            "677\n",
            "683\n",
            "691\n",
            "701\n",
            "709\n",
            "719\n",
            "727\n",
            "733\n",
            "739\n",
            "743\n",
            "751\n",
            "757\n",
            "761\n",
            "769\n",
            "773\n",
            "787\n",
            "797\n"
          ]
        }
      ]
    },
    {
      "cell_type": "markdown",
      "source": [],
      "metadata": {
        "id": "sYCrXnC9RGdk"
      }
    },
    {
      "cell_type": "code",
      "source": [
        "for i in range(100,1000):\n",
        " if(i%7 == 0):\n",
        "   if(i%9 == 0):\n",
        "     print(i)\n"
      ],
      "metadata": {
        "colab": {
          "base_uri": "https://localhost:8080/"
        },
        "id": "cGYHuMDaRGuL",
        "outputId": "4be14b9c-d315-45e9-a255-ec2968f50d9e"
      },
      "execution_count": 117,
      "outputs": [
        {
          "output_type": "stream",
          "name": "stdout",
          "text": [
            "126\n",
            "189\n",
            "252\n",
            "315\n",
            "378\n",
            "441\n",
            "504\n",
            "567\n",
            "630\n",
            "693\n",
            "756\n",
            "819\n",
            "882\n",
            "945\n"
          ]
        }
      ]
    },
    {
      "cell_type": "markdown",
      "source": [
        "WAP to create two lists of 10 random numbers between 10 and 30; Find "
      ],
      "metadata": {
        "id": "_n-7n7mqSrPV"
      }
    },
    {
      "cell_type": "markdown",
      "source": [],
      "metadata": {
        "id": "sj95lZVySw8a"
      }
    },
    {
      "cell_type": "code",
      "source": [
        "import random as r\n",
        "s1 = r.sample(range(10,30),10)\n",
        "print(\"list 1 is : \",s1)\n",
        "s2 = r.sample(range(10,30),10)\n",
        "print(\"list 2 is : \",s2)\n",
        "final_list = []\n",
        "for i in s1:\n",
        "  if i in s2:\n",
        "    final_list.append(i) \n",
        "print(\"common numbers in 2 lists are\",final_list) \n",
        "S1 = set(s1)\n",
        "S2 = set(s2)\n",
        "S3 = list(S1.symmetric_difference(S2))\n",
        "print(\"list of unique number is : \",S3) \n",
        "print(\"min of list 1 is : \",min(s1))\n",
        "print(\"min of list 2 is : \",min(s2))\n",
        "print(\"max of list 1 is : \",max(s1))\n",
        "print(\"max of list 2 is : \",max(s2))\n",
        "s3 = s1 + s2\n",
        "print(\"sum of both the lists are \",s3)   "
      ],
      "metadata": {
        "colab": {
          "base_uri": "https://localhost:8080/"
        },
        "id": "9pp7LxBESxEq",
        "outputId": "6d214cc2-2851-4e9f-8698-7582ea41febf"
      },
      "execution_count": 155,
      "outputs": [
        {
          "output_type": "stream",
          "name": "stdout",
          "text": [
            "list 1 is :  [23, 22, 28, 14, 19, 15, 12, 18, 26, 29]\n",
            "list 2 is :  [26, 13, 11, 16, 17, 20, 29, 19, 21, 28]\n",
            "common numbers in 2 lists are [28, 19, 26, 29]\n",
            "list of unique number is :  [11, 12, 13, 14, 15, 16, 17, 18, 20, 21, 22, 23]\n",
            "min of list 1 is :  12\n",
            "min of list 2 is :  11\n",
            "max of list 1 is :  29\n",
            "max of list 2 is :  29\n",
            "sum of both the lists are  [23, 22, 28, 14, 19, 15, 12, 18, 26, 29, 26, 13, 11, 16, 17, 20, 29, 19, 21, 28]\n"
          ]
        }
      ]
    },
    {
      "cell_type": "markdown",
      "source": [
        "WAP to create a list of 100 random numbers between 100 and 900. Count and print the: "
      ],
      "metadata": {
        "id": "5x5k433HkKNL"
      }
    },
    {
      "cell_type": "code",
      "source": [
        "import random as r\n",
        "l = r.sample(range(100,900),100)\n",
        "print(\"List we have is\\n\",l)\n",
        "lo = []\n",
        "le = []\n",
        "for i in l:\n",
        "  if(i%2==0):\n",
        "    le.append(i)\n",
        "  else:\n",
        "    lo.append(i) \n",
        "print(\"\\nTotal even numbers are = \",len(le)) \n",
        "print(\"\\nEven numbers list is\\nle=\",le)\n",
        "print(\"\\nTotal odd numbers are = \",len(lo)) \n",
        "print(\"\\nOdd number list is\\nlo=\",lo)\n",
        "def is_prime(n):  \n",
        "  \n",
        "  for i in range (2,n//2 + 1):\n",
        "    if(n%i==0):\n",
        "      return 0\n",
        "  return 1\n",
        "lp = []\n",
        "for i in l:\n",
        "  \n",
        "  if (is_prime(i))==1:  \n",
        "   lp.append(i)  \n",
        "print(\"\\nTotal prime numbers are = \",lp)\n",
        "print(\"\\nPrime numbers are = \",lp)   "
      ],
      "metadata": {
        "colab": {
          "base_uri": "https://localhost:8080/"
        },
        "id": "p-RpZ7QAkPO7",
        "outputId": "9ddc0f72-b3d6-45ba-fcfe-6e6a39429270"
      },
      "execution_count": 185,
      "outputs": [
        {
          "output_type": "stream",
          "name": "stdout",
          "text": [
            "List we have is\n",
            " [294, 317, 887, 598, 327, 764, 814, 810, 218, 765, 322, 864, 101, 326, 807, 853, 515, 484, 307, 141, 768, 547, 858, 193, 215, 397, 837, 529, 316, 822, 760, 343, 549, 284, 194, 501, 836, 894, 405, 179, 532, 183, 450, 128, 153, 160, 838, 812, 614, 666, 725, 262, 773, 845, 223, 531, 376, 118, 528, 411, 485, 881, 737, 439, 667, 300, 358, 468, 588, 786, 717, 793, 172, 392, 801, 735, 102, 878, 706, 220, 600, 705, 289, 421, 168, 693, 513, 103, 656, 520, 268, 459, 707, 638, 202, 441, 232, 390, 583, 620]\n",
            "\n",
            "Total even numbers are =  52\n",
            "\n",
            "Even numbers list is\n",
            "le= [294, 598, 764, 814, 810, 218, 322, 864, 326, 484, 768, 858, 316, 822, 760, 284, 194, 836, 894, 532, 450, 128, 160, 838, 812, 614, 666, 262, 376, 118, 528, 300, 358, 468, 588, 786, 172, 392, 102, 878, 706, 220, 600, 168, 656, 520, 268, 638, 202, 232, 390, 620]\n",
            "\n",
            "Total odd numbers are =  48\n",
            "\n",
            "Odd number list is\n",
            "lo= [317, 887, 327, 765, 101, 807, 853, 515, 307, 141, 547, 193, 215, 397, 837, 529, 343, 549, 501, 405, 179, 183, 153, 725, 773, 845, 223, 531, 411, 485, 881, 737, 439, 667, 717, 793, 801, 735, 705, 289, 421, 693, 513, 103, 459, 707, 441, 583]\n",
            "\n",
            "Total prime numbers are =  [317, 887, 101, 853, 307, 547, 193, 397, 179, 773, 223, 881, 439, 421, 103]\n",
            "\n",
            "Prime numbers are =  [317, 887, 101, 853, 307, 547, 193, 397, 179, 773, 223, 881, 439, 421, 103]\n"
          ]
        }
      ]
    },
    {
      "cell_type": "markdown",
      "source": [
        "WAP to read all the keys and values from dictionary and write to the file in the given below format"
      ],
      "metadata": {
        "id": "5_YzPXdPozh8"
      }
    },
    {
      "cell_type": "code",
      "source": [
        "fp = open('dictionary.txt','w')\n",
        "D={1:\"One\",2:\"Two\",3:\"Three\",4:\"Four\", 5:\"Five\"}\n",
        "for i in range(1,6):\n",
        " fp.write(str(i))\n",
        " fp.write(\",\")\n",
        " fp.write(D[i])\n",
        " fp.write(\"\\n\")\n",
        "fp.close() "
      ],
      "metadata": {
        "id": "pyTHG7hXo7q4"
      },
      "execution_count": 204,
      "outputs": []
    },
    {
      "cell_type": "markdown",
      "source": [
        "Q8. WAP to count the length of reach element from a list"
      ],
      "metadata": {
        "id": "C4Z7eEl_qlhY"
      }
    },
    {
      "cell_type": "code",
      "source": [
        "fp = open('list.txt','w')\n",
        "L=[\"One\",\"Two\",\"Three\",\"Four\",\"Five\"]\n",
        "for i in range(0,5):\n",
        "  fp.write(L[i])\n",
        "  fp.write(\",\")\n",
        "  fp.write(str(len(L[i])))\n",
        "  fp.write(\"\\n\")\n",
        "fp.close()  \n",
        "\n"
      ],
      "metadata": {
        "id": "HtesGoDXqsJz"
      },
      "execution_count": 207,
      "outputs": []
    },
    {
      "cell_type": "markdown",
      "source": [
        "Q9. Write to the file 100 random strings whose length between 10 and 15"
      ],
      "metadata": {
        "id": "uTtwtYy1sXlt"
      }
    },
    {
      "cell_type": "code",
      "source": [
        "import random as r\n",
        "fp = open('string.txt','w')\n",
        "s = r.sample(range)\n"
      ],
      "metadata": {
        "id": "isTsiZ55scW2"
      },
      "execution_count": null,
      "outputs": []
    }
  ]
}